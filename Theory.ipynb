{
 "cells": [
  {
   "cell_type": "code",
   "execution_count": 1,
   "id": "0db1a1b8",
   "metadata": {},
   "outputs": [
    {
     "ename": "SyntaxError",
     "evalue": "invalid decimal literal (2617045708.py, line 2)",
     "output_type": "error",
     "traceback": [
      "\u001b[1;36m  Input \u001b[1;32mIn [1]\u001b[1;36m\u001b[0m\n\u001b[1;33m    if we have 1000s of neurons in each layer it will take way much time and updating the edges weights of all will slow the process\u001b[0m\n\u001b[1;37m                  ^\u001b[0m\n\u001b[1;31mSyntaxError\u001b[0m\u001b[1;31m:\u001b[0m invalid decimal literal\n"
     ]
    }
   ],
   "source": [
    "DNN uses dense neural network (fully connected) , so :\n",
    "    if we have 1000s of neurons in each layer it will take way much time and updating the edges weights of all will slow the process\n",
    "    32x32 pic = 1024 = 1024x3 = 3000.. , so we use CNN\n",
    "    \n",
    "In CNN , the inputs are images\n",
    "Neurons are not dense in CNN (not fully connected)\n",
    "\n",
    "Process :\n",
    "1:Convolutional operation:\n",
    "        process of adding each element of the image to its local neighbors , weighted by the kernal\n",
    "        image -> matrix representaion\n",
    "        kernal(feature detector or filter) -> another matrix\n",
    "        image x kernal = feature map\n",
    "        There will be many feature maps cuz of many diff feature detectors then use ReLU on all the feature maps\n",
    "        \n",
    "        Feature Detector / kernel / filter:\n",
    "            represented as matrices . helps to detect the relevant features in a given image.\n",
    "            >Sharpen Kernel: it makes the given image sharp (increases the pixel intensity of the given pixel and reduces the neighbour's PI)\n",
    "            >Edge Detetction Kernel:  it can detect edges (decreases the pixel intensity of the given pixel but do not chage the pixel intensity of neighbour pixels)\n",
    "            CNN automatically selects the best possible kernal during training                             \n",
    "                                                             \n",
    "2:Pooling(reduce the dimenstion of the image , just select the most important pixels (features)):\n",
    "      With max pooling , we select the most relevant features: this is how we deal with the spatial invariance . We just care about the most relevant features\n",
    "      Spatial Invariance : We would like to make sure to detect the same object no matter whether it is rotated or transformed                                                       \n",
    "      Max , Avg , Min Pooling . Applies on feature map.\n",
    "      We just care about the features of the objects , not the object  \n",
    "      Apply max pooling to all the feature maps \n",
    "      We will train then update the weights according to the optimizors ,\n",
    "      then calculate the error + choosing the right feature detector                                                      \n",
    "                                                             \n",
    "2:Batch normalization is a layer that allows every layer of the network to do learning more independently. It is used to normalize the output of the previous layers\n",
    "                                                             \n",
    "3:Flatenning : tranform the pooled feature map into 1D vector that would be the input of the NN.\n",
    "After flatenning we would pass the inputs in an ANN.     \n",
    "                                                             \n",
    "                                                             \n",
    "CNN can find the features it self by training the image , so we dont have to give the features\n",
    "eg of cnn : Self driving cars \n",
    "\n",
    "                                                             \n",
    "BATCH SIZE : how many samples to consider during the training before updating the weightss       \n",
    "                                                             \n",
    "-----------------------------------------------                                                             \n",
    "\n",
    "We need huge dataset for DLP . if we dont have that we can use DATA AUGMENTATION\n",
    "\n",
    "it reduces overfitting as well .\n",
    "if we have a single image and we apply data augmentation , we can make lots of images from that image\n",
    "                                                             "
   ]
  },
  {
   "cell_type": "code",
   "execution_count": null,
   "id": "7372c30b",
   "metadata": {},
   "outputs": [],
   "source": [
    "\n"
   ]
  }
 ],
 "metadata": {
  "kernelspec": {
   "display_name": "Python 3 (ipykernel)",
   "language": "python",
   "name": "python3"
  },
  "language_info": {
   "codemirror_mode": {
    "name": "ipython",
    "version": 3
   },
   "file_extension": ".py",
   "mimetype": "text/x-python",
   "name": "python",
   "nbconvert_exporter": "python",
   "pygments_lexer": "ipython3",
   "version": "3.10.0"
  }
 },
 "nbformat": 4,
 "nbformat_minor": 5
}
